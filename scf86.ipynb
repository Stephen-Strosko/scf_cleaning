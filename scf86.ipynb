{
 "cells": [
  {
   "cell_type": "code",
   "execution_count": 1,
   "metadata": {},
   "outputs": [],
   "source": [
    "import pandas as pd"
   ]
  },
  {
   "cell_type": "code",
   "execution_count": 202,
   "metadata": {},
   "outputs": [],
   "source": [
    "scf = pd.read_stata('scf86b.dta')"
   ]
  },
  {
   "cell_type": "code",
   "execution_count": 203,
   "metadata": {},
   "outputs": [],
   "source": [
    "# SMSA, FIPS, reasons for saving (18-20), total amount of non-residence assets, total private business assets\n",
    "scf = scf[['v1', 'c1211', 'c1213', 'c1218', 'c1219', 'c1220', 'c1417', 'c1419' ]]"
   ]
  },
  {
   "cell_type": "code",
   "execution_count": 195,
   "metadata": {
    "scrolled": true
   },
   "outputs": [
    {
     "data": {
      "text/html": [
       "<div>\n",
       "<style scoped>\n",
       "    .dataframe tbody tr th:only-of-type {\n",
       "        vertical-align: middle;\n",
       "    }\n",
       "\n",
       "    .dataframe tbody tr th {\n",
       "        vertical-align: top;\n",
       "    }\n",
       "\n",
       "    .dataframe thead th {\n",
       "        text-align: right;\n",
       "    }\n",
       "</style>\n",
       "<table border=\"1\" class=\"dataframe\">\n",
       "  <thead>\n",
       "    <tr style=\"text-align: right;\">\n",
       "      <th></th>\n",
       "      <th>c1211</th>\n",
       "      <th>c1213</th>\n",
       "      <th>c1218</th>\n",
       "      <th>c1219</th>\n",
       "      <th>c1220</th>\n",
       "      <th>c1417</th>\n",
       "      <th>c1419</th>\n",
       "    </tr>\n",
       "  </thead>\n",
       "  <tbody>\n",
       "    <tr>\n",
       "      <th>0</th>\n",
       "      <td>6760</td>\n",
       "      <td>51760</td>\n",
       "      <td>-6</td>\n",
       "      <td>0</td>\n",
       "      <td>0</td>\n",
       "      <td>0</td>\n",
       "      <td>0</td>\n",
       "    </tr>\n",
       "    <tr>\n",
       "      <th>1</th>\n",
       "      <td>1140</td>\n",
       "      <td>12081</td>\n",
       "      <td>-6</td>\n",
       "      <td>0</td>\n",
       "      <td>0</td>\n",
       "      <td>0</td>\n",
       "      <td>0</td>\n",
       "    </tr>\n",
       "    <tr>\n",
       "      <th>2</th>\n",
       "      <td>7360</td>\n",
       "      <td>6075</td>\n",
       "      <td>26</td>\n",
       "      <td>0</td>\n",
       "      <td>0</td>\n",
       "      <td>0</td>\n",
       "      <td>0</td>\n",
       "    </tr>\n",
       "    <tr>\n",
       "      <th>3</th>\n",
       "      <td>1140</td>\n",
       "      <td>12081</td>\n",
       "      <td>22</td>\n",
       "      <td>3</td>\n",
       "      <td>24</td>\n",
       "      <td>1774</td>\n",
       "      <td>0</td>\n",
       "    </tr>\n",
       "    <tr>\n",
       "      <th>4</th>\n",
       "      <td>6760</td>\n",
       "      <td>51760</td>\n",
       "      <td>-6</td>\n",
       "      <td>0</td>\n",
       "      <td>0</td>\n",
       "      <td>0</td>\n",
       "      <td>0</td>\n",
       "    </tr>\n",
       "  </tbody>\n",
       "</table>\n",
       "</div>"
      ],
      "text/plain": [
       "   c1211  c1213  c1218  c1219  c1220  c1417  c1419\n",
       "0   6760  51760     -6      0      0      0      0\n",
       "1   1140  12081     -6      0      0      0      0\n",
       "2   7360   6075     26      0      0      0      0\n",
       "3   1140  12081     22      3     24   1774      0\n",
       "4   6760  51760     -6      0      0      0      0"
      ]
     },
     "execution_count": 195,
     "metadata": {},
     "output_type": "execute_result"
    }
   ],
   "source": [
    "scf.head()"
   ]
  },
  {
   "cell_type": "code",
   "execution_count": 103,
   "metadata": {},
   "outputs": [],
   "source": [
    "crossover = pd.read_csv('counties.csv')"
   ]
  },
  {
   "cell_type": "code",
   "execution_count": 104,
   "metadata": {},
   "outputs": [
    {
     "data": {
      "text/html": [
       "<div>\n",
       "<style scoped>\n",
       "    .dataframe tbody tr th:only-of-type {\n",
       "        vertical-align: middle;\n",
       "    }\n",
       "\n",
       "    .dataframe tbody tr th {\n",
       "        vertical-align: top;\n",
       "    }\n",
       "\n",
       "    .dataframe thead th {\n",
       "        text-align: right;\n",
       "    }\n",
       "</style>\n",
       "<table border=\"1\" class=\"dataframe\">\n",
       "  <thead>\n",
       "    <tr style=\"text-align: right;\">\n",
       "      <th></th>\n",
       "      <th>county</th>\n",
       "    </tr>\n",
       "  </thead>\n",
       "  <tbody>\n",
       "    <tr>\n",
       "      <th>0</th>\n",
       "      <td>1073. Jefferson County, AL (2 cases)</td>\n",
       "    </tr>\n",
       "    <tr>\n",
       "      <th>1</th>\n",
       "      <td>1101. Montgomery County, AL (20 cases)</td>\n",
       "    </tr>\n",
       "    <tr>\n",
       "      <th>2</th>\n",
       "      <td>2110. Juneau County, AK (1 case)</td>\n",
       "    </tr>\n",
       "    <tr>\n",
       "      <th>3</th>\n",
       "      <td>2122. Kenai Peninsula County, AK (1 case)</td>\n",
       "    </tr>\n",
       "    <tr>\n",
       "      <th>4</th>\n",
       "      <td>4013. Maricopa County, AZ (22 cases)</td>\n",
       "    </tr>\n",
       "  </tbody>\n",
       "</table>\n",
       "</div>"
      ],
      "text/plain": [
       "                                       county\n",
       "0        1073. Jefferson County, AL (2 cases)\n",
       "1      1101. Montgomery County, AL (20 cases)\n",
       "2            2110. Juneau County, AK (1 case)\n",
       "3   2122. Kenai Peninsula County, AK (1 case)\n",
       "4        4013. Maricopa County, AZ (22 cases)"
      ]
     },
     "execution_count": 104,
     "metadata": {},
     "output_type": "execute_result"
    }
   ],
   "source": [
    "crossover.head()"
   ]
  },
  {
   "cell_type": "code",
   "execution_count": 105,
   "metadata": {},
   "outputs": [],
   "source": [
    "crossover[['fips', 'cname', 'none']] = crossover['county'].str.split('.', expand=True)"
   ]
  },
  {
   "cell_type": "code",
   "execution_count": 107,
   "metadata": {},
   "outputs": [],
   "source": [
    "crossover[['cname', 'case']] = crossover['cname'].str.split('(', expand=True)"
   ]
  },
  {
   "cell_type": "code",
   "execution_count": 108,
   "metadata": {},
   "outputs": [],
   "source": [
    "crossover['cname']  = crossover['cname'].str.replace(', ', '').str.replace('County', '')"
   ]
  },
  {
   "cell_type": "code",
   "execution_count": 110,
   "metadata": {},
   "outputs": [],
   "source": [
    "crossover = crossover[['cname', 'fips']]\n",
    "crossover.to_csv('crossover.csv')"
   ]
  },
  {
   "cell_type": "code",
   "execution_count": 177,
   "metadata": {},
   "outputs": [],
   "source": [
    "new_crossover = pd.read_csv('crossover.csv')"
   ]
  },
  {
   "cell_type": "code",
   "execution_count": 178,
   "metadata": {},
   "outputs": [],
   "source": [
    "new_crossover[['cname', 'state_ab', 'none']] = new_crossover['cname'].str.split(r'( [A-Z]{2})', expand=True)"
   ]
  },
  {
   "cell_type": "code",
   "execution_count": 179,
   "metadata": {},
   "outputs": [],
   "source": [
    "new_crossover = new_crossover[['State', 'cname', 'fips']]"
   ]
  },
  {
   "cell_type": "code",
   "execution_count": 180,
   "metadata": {},
   "outputs": [],
   "source": [
    "new_crossover = new_crossover.rename(columns={'State':'STAB', 'cname':'CNAME SR'})"
   ]
  },
  {
   "cell_type": "code",
   "execution_count": 185,
   "metadata": {},
   "outputs": [],
   "source": [
    "new_crossover['CNAME SR'] = new_crossover['CNAME SR'].str.upper().str.strip(' ')\n",
    "new_crossover['STAB'] = new_crossover['STAB'].str.strip(' ')"
   ]
  },
  {
   "cell_type": "code",
   "execution_count": 162,
   "metadata": {},
   "outputs": [],
   "source": [
    "fips = pd.read_csv('new_fishback.csv')"
   ]
  },
  {
   "cell_type": "code",
   "execution_count": 163,
   "metadata": {},
   "outputs": [
    {
     "data": {
      "text/html": [
       "<div>\n",
       "<style scoped>\n",
       "    .dataframe tbody tr th:only-of-type {\n",
       "        vertical-align: middle;\n",
       "    }\n",
       "\n",
       "    .dataframe tbody tr th {\n",
       "        vertical-align: top;\n",
       "    }\n",
       "\n",
       "    .dataframe thead th {\n",
       "        text-align: right;\n",
       "    }\n",
       "</style>\n",
       "<table border=\"1\" class=\"dataframe\">\n",
       "  <thead>\n",
       "    <tr style=\"text-align: right;\">\n",
       "      <th></th>\n",
       "      <th>STAB</th>\n",
       "      <th>CNAME SR</th>\n",
       "      <th>RLDF3929</th>\n",
       "      <th>RLDF3329</th>\n",
       "      <th>RLDF3529</th>\n",
       "    </tr>\n",
       "  </thead>\n",
       "  <tbody>\n",
       "    <tr>\n",
       "      <th>0</th>\n",
       "      <td>ALABAMA</td>\n",
       "      <td>AUTAUGA</td>\n",
       "      <td>-0.018973</td>\n",
       "      <td>-0.502064</td>\n",
       "      <td>-0.247065</td>\n",
       "    </tr>\n",
       "    <tr>\n",
       "      <th>1</th>\n",
       "      <td>ALABAMA</td>\n",
       "      <td>BALDWIN</td>\n",
       "      <td>0.187411</td>\n",
       "      <td>-0.497282</td>\n",
       "      <td>-0.204761</td>\n",
       "    </tr>\n",
       "    <tr>\n",
       "      <th>2</th>\n",
       "      <td>ALABAMA</td>\n",
       "      <td>BARBOUR</td>\n",
       "      <td>-0.014156</td>\n",
       "      <td>-0.468473</td>\n",
       "      <td>-0.081819</td>\n",
       "    </tr>\n",
       "    <tr>\n",
       "      <th>3</th>\n",
       "      <td>ALABAMA</td>\n",
       "      <td>BIBB</td>\n",
       "      <td>-0.124208</td>\n",
       "      <td>-0.603432</td>\n",
       "      <td>-0.476398</td>\n",
       "    </tr>\n",
       "    <tr>\n",
       "      <th>4</th>\n",
       "      <td>ALABAMA</td>\n",
       "      <td>BLOUNT</td>\n",
       "      <td>0.150613</td>\n",
       "      <td>-0.614978</td>\n",
       "      <td>-0.233145</td>\n",
       "    </tr>\n",
       "  </tbody>\n",
       "</table>\n",
       "</div>"
      ],
      "text/plain": [
       "      STAB CNAME SR  RLDF3929  RLDF3329  RLDF3529\n",
       "0  ALABAMA  AUTAUGA -0.018973 -0.502064 -0.247065\n",
       "1  ALABAMA  BALDWIN  0.187411 -0.497282 -0.204761\n",
       "2  ALABAMA  BARBOUR -0.014156 -0.468473 -0.081819\n",
       "3  ALABAMA     BIBB -0.124208 -0.603432 -0.476398\n",
       "4  ALABAMA   BLOUNT  0.150613 -0.614978 -0.233145"
      ]
     },
     "execution_count": 163,
     "metadata": {},
     "output_type": "execute_result"
    }
   ],
   "source": [
    "fips.head()"
   ]
  },
  {
   "cell_type": "code",
   "execution_count": 186,
   "metadata": {},
   "outputs": [
    {
     "data": {
      "text/html": [
       "<div>\n",
       "<style scoped>\n",
       "    .dataframe tbody tr th:only-of-type {\n",
       "        vertical-align: middle;\n",
       "    }\n",
       "\n",
       "    .dataframe tbody tr th {\n",
       "        vertical-align: top;\n",
       "    }\n",
       "\n",
       "    .dataframe thead th {\n",
       "        text-align: right;\n",
       "    }\n",
       "</style>\n",
       "<table border=\"1\" class=\"dataframe\">\n",
       "  <thead>\n",
       "    <tr style=\"text-align: right;\">\n",
       "      <th></th>\n",
       "      <th>STAB</th>\n",
       "      <th>CNAME SR</th>\n",
       "      <th>fips</th>\n",
       "    </tr>\n",
       "  </thead>\n",
       "  <tbody>\n",
       "    <tr>\n",
       "      <th>0</th>\n",
       "      <td>ALABAMA</td>\n",
       "      <td>JEFFERSON</td>\n",
       "      <td>1073</td>\n",
       "    </tr>\n",
       "    <tr>\n",
       "      <th>1</th>\n",
       "      <td>ALABAMA</td>\n",
       "      <td>MONTGOMERY</td>\n",
       "      <td>1101</td>\n",
       "    </tr>\n",
       "    <tr>\n",
       "      <th>2</th>\n",
       "      <td>ALASKA</td>\n",
       "      <td>JUNEAU</td>\n",
       "      <td>2110</td>\n",
       "    </tr>\n",
       "    <tr>\n",
       "      <th>3</th>\n",
       "      <td>ALASKA</td>\n",
       "      <td>KENAI PENINSULA</td>\n",
       "      <td>2122</td>\n",
       "    </tr>\n",
       "    <tr>\n",
       "      <th>4</th>\n",
       "      <td>ARIZONA</td>\n",
       "      <td>MARICOPA</td>\n",
       "      <td>4013</td>\n",
       "    </tr>\n",
       "  </tbody>\n",
       "</table>\n",
       "</div>"
      ],
      "text/plain": [
       "      STAB         CNAME SR  fips\n",
       "0  ALABAMA        JEFFERSON  1073\n",
       "1  ALABAMA       MONTGOMERY  1101\n",
       "2   ALASKA           JUNEAU  2110\n",
       "3   ALASKA  KENAI PENINSULA  2122\n",
       "4  ARIZONA         MARICOPA  4013"
      ]
     },
     "execution_count": 186,
     "metadata": {},
     "output_type": "execute_result"
    }
   ],
   "source": [
    "new_crossover.head()"
   ]
  },
  {
   "cell_type": "code",
   "execution_count": 187,
   "metadata": {},
   "outputs": [
    {
     "data": {
      "text/html": [
       "<div>\n",
       "<style scoped>\n",
       "    .dataframe tbody tr th:only-of-type {\n",
       "        vertical-align: middle;\n",
       "    }\n",
       "\n",
       "    .dataframe tbody tr th {\n",
       "        vertical-align: top;\n",
       "    }\n",
       "\n",
       "    .dataframe thead th {\n",
       "        text-align: right;\n",
       "    }\n",
       "</style>\n",
       "<table border=\"1\" class=\"dataframe\">\n",
       "  <thead>\n",
       "    <tr style=\"text-align: right;\">\n",
       "      <th></th>\n",
       "      <th>STAB</th>\n",
       "      <th>CNAME SR</th>\n",
       "      <th>RLDF3929</th>\n",
       "      <th>RLDF3329</th>\n",
       "      <th>RLDF3529</th>\n",
       "    </tr>\n",
       "  </thead>\n",
       "  <tbody>\n",
       "    <tr>\n",
       "      <th>0</th>\n",
       "      <td>ALABAMA</td>\n",
       "      <td>AUTAUGA</td>\n",
       "      <td>-0.018973</td>\n",
       "      <td>-0.502064</td>\n",
       "      <td>-0.247065</td>\n",
       "    </tr>\n",
       "    <tr>\n",
       "      <th>1</th>\n",
       "      <td>ALABAMA</td>\n",
       "      <td>BALDWIN</td>\n",
       "      <td>0.187411</td>\n",
       "      <td>-0.497282</td>\n",
       "      <td>-0.204761</td>\n",
       "    </tr>\n",
       "    <tr>\n",
       "      <th>2</th>\n",
       "      <td>ALABAMA</td>\n",
       "      <td>BARBOUR</td>\n",
       "      <td>-0.014156</td>\n",
       "      <td>-0.468473</td>\n",
       "      <td>-0.081819</td>\n",
       "    </tr>\n",
       "    <tr>\n",
       "      <th>3</th>\n",
       "      <td>ALABAMA</td>\n",
       "      <td>BIBB</td>\n",
       "      <td>-0.124208</td>\n",
       "      <td>-0.603432</td>\n",
       "      <td>-0.476398</td>\n",
       "    </tr>\n",
       "    <tr>\n",
       "      <th>4</th>\n",
       "      <td>ALABAMA</td>\n",
       "      <td>BLOUNT</td>\n",
       "      <td>0.150613</td>\n",
       "      <td>-0.614978</td>\n",
       "      <td>-0.233145</td>\n",
       "    </tr>\n",
       "  </tbody>\n",
       "</table>\n",
       "</div>"
      ],
      "text/plain": [
       "      STAB CNAME SR  RLDF3929  RLDF3329  RLDF3529\n",
       "0  ALABAMA  AUTAUGA -0.018973 -0.502064 -0.247065\n",
       "1  ALABAMA  BALDWIN  0.187411 -0.497282 -0.204761\n",
       "2  ALABAMA  BARBOUR -0.014156 -0.468473 -0.081819\n",
       "3  ALABAMA     BIBB -0.124208 -0.603432 -0.476398\n",
       "4  ALABAMA   BLOUNT  0.150613 -0.614978 -0.233145"
      ]
     },
     "execution_count": 187,
     "metadata": {},
     "output_type": "execute_result"
    }
   ],
   "source": [
    "fips.head()"
   ]
  },
  {
   "cell_type": "code",
   "execution_count": 189,
   "metadata": {},
   "outputs": [],
   "source": [
    "fips_retail = fips.merge(new_crossover, on=['STAB', 'CNAME SR'])"
   ]
  },
  {
   "cell_type": "code",
   "execution_count": 219,
   "metadata": {},
   "outputs": [],
   "source": [
    "scf = scf.rename(columns={'c1213':'fips'})"
   ]
  },
  {
   "cell_type": "code",
   "execution_count": 247,
   "metadata": {},
   "outputs": [],
   "source": [
    "final_data = scf.merge(fips_retail, on=['fips'])"
   ]
  },
  {
   "cell_type": "code",
   "execution_count": 248,
   "metadata": {},
   "outputs": [
    {
     "data": {
      "text/html": [
       "<div>\n",
       "<style scoped>\n",
       "    .dataframe tbody tr th:only-of-type {\n",
       "        vertical-align: middle;\n",
       "    }\n",
       "\n",
       "    .dataframe tbody tr th {\n",
       "        vertical-align: top;\n",
       "    }\n",
       "\n",
       "    .dataframe thead th {\n",
       "        text-align: right;\n",
       "    }\n",
       "</style>\n",
       "<table border=\"1\" class=\"dataframe\">\n",
       "  <thead>\n",
       "    <tr style=\"text-align: right;\">\n",
       "      <th></th>\n",
       "      <th>v1</th>\n",
       "      <th>c1211</th>\n",
       "      <th>fips</th>\n",
       "      <th>c1218</th>\n",
       "      <th>c1219</th>\n",
       "      <th>c1220</th>\n",
       "      <th>c1417</th>\n",
       "      <th>c1419</th>\n",
       "      <th>STAB</th>\n",
       "      <th>CNAME SR</th>\n",
       "      <th>RLDF3929</th>\n",
       "      <th>RLDF3329</th>\n",
       "      <th>RLDF3529</th>\n",
       "    </tr>\n",
       "  </thead>\n",
       "  <tbody>\n",
       "    <tr>\n",
       "      <th>0</th>\n",
       "      <td>1</td>\n",
       "      <td>6760</td>\n",
       "      <td>51760</td>\n",
       "      <td>-6</td>\n",
       "      <td>0</td>\n",
       "      <td>0</td>\n",
       "      <td>0</td>\n",
       "      <td>0</td>\n",
       "      <td>VIRGINIA</td>\n",
       "      <td>RICHMOND</td>\n",
       "      <td>0.460085</td>\n",
       "      <td>-0.02696</td>\n",
       "      <td>0.092548</td>\n",
       "    </tr>\n",
       "    <tr>\n",
       "      <th>1</th>\n",
       "      <td>5</td>\n",
       "      <td>6760</td>\n",
       "      <td>51760</td>\n",
       "      <td>-6</td>\n",
       "      <td>0</td>\n",
       "      <td>0</td>\n",
       "      <td>0</td>\n",
       "      <td>0</td>\n",
       "      <td>VIRGINIA</td>\n",
       "      <td>RICHMOND</td>\n",
       "      <td>0.460085</td>\n",
       "      <td>-0.02696</td>\n",
       "      <td>0.092548</td>\n",
       "    </tr>\n",
       "    <tr>\n",
       "      <th>2</th>\n",
       "      <td>121</td>\n",
       "      <td>6760</td>\n",
       "      <td>51760</td>\n",
       "      <td>22</td>\n",
       "      <td>0</td>\n",
       "      <td>0</td>\n",
       "      <td>78000</td>\n",
       "      <td>0</td>\n",
       "      <td>VIRGINIA</td>\n",
       "      <td>RICHMOND</td>\n",
       "      <td>0.460085</td>\n",
       "      <td>-0.02696</td>\n",
       "      <td>0.092548</td>\n",
       "    </tr>\n",
       "    <tr>\n",
       "      <th>3</th>\n",
       "      <td>506</td>\n",
       "      <td>6760</td>\n",
       "      <td>51760</td>\n",
       "      <td>24</td>\n",
       "      <td>0</td>\n",
       "      <td>0</td>\n",
       "      <td>0</td>\n",
       "      <td>0</td>\n",
       "      <td>VIRGINIA</td>\n",
       "      <td>RICHMOND</td>\n",
       "      <td>0.460085</td>\n",
       "      <td>-0.02696</td>\n",
       "      <td>0.092548</td>\n",
       "    </tr>\n",
       "    <tr>\n",
       "      <th>4</th>\n",
       "      <td>955</td>\n",
       "      <td>6760</td>\n",
       "      <td>51760</td>\n",
       "      <td>25</td>\n",
       "      <td>0</td>\n",
       "      <td>0</td>\n",
       "      <td>0</td>\n",
       "      <td>0</td>\n",
       "      <td>VIRGINIA</td>\n",
       "      <td>RICHMOND</td>\n",
       "      <td>0.460085</td>\n",
       "      <td>-0.02696</td>\n",
       "      <td>0.092548</td>\n",
       "    </tr>\n",
       "  </tbody>\n",
       "</table>\n",
       "</div>"
      ],
      "text/plain": [
       "    v1  c1211   fips  c1218  c1219  c1220  c1417  c1419      STAB  CNAME SR  \\\n",
       "0    1   6760  51760     -6      0      0      0      0  VIRGINIA  RICHMOND   \n",
       "1    5   6760  51760     -6      0      0      0      0  VIRGINIA  RICHMOND   \n",
       "2  121   6760  51760     22      0      0  78000      0  VIRGINIA  RICHMOND   \n",
       "3  506   6760  51760     24      0      0      0      0  VIRGINIA  RICHMOND   \n",
       "4  955   6760  51760     25      0      0      0      0  VIRGINIA  RICHMOND   \n",
       "\n",
       "   RLDF3929  RLDF3329  RLDF3529  \n",
       "0  0.460085  -0.02696  0.092548  \n",
       "1  0.460085  -0.02696  0.092548  \n",
       "2  0.460085  -0.02696  0.092548  \n",
       "3  0.460085  -0.02696  0.092548  \n",
       "4  0.460085  -0.02696  0.092548  "
      ]
     },
     "execution_count": 248,
     "metadata": {},
     "output_type": "execute_result"
    }
   ],
   "source": [
    "final_data.head()"
   ]
  },
  {
   "cell_type": "code",
   "execution_count": 249,
   "metadata": {},
   "outputs": [],
   "source": [
    "# Top three reasons for saving\n",
    "# Choosen options to proxy: invest in business, invest in general, wise to save, invest in own education\n",
    "final_data['c1218_map'] = final_data['c1218'].map({21: 1, 26: 1, 2: 1, 91: 1}).fillna(0)\n",
    "final_data['c1219_map'] = final_data['c1219'].map({21: 1, 26: 1, 2: 1, 91: 1}).fillna(0)\n",
    "final_data['c1220_map'] = final_data['c1220'].map({21: 1, 26: 1, 2: 1, 91: 1}).fillna(0)\n",
    "final_data['sav_tot'] = final_data['c1218_map'] + final_data['c1219_map'] + final_data['c1220_map']"
   ]
  },
  {
   "cell_type": "code",
   "execution_count": 250,
   "metadata": {},
   "outputs": [
    {
     "data": {
      "text/plain": [
       "0.0    2082\n",
       "1.0      80\n",
       "Name: c1218_map, dtype: int64"
      ]
     },
     "execution_count": 250,
     "metadata": {},
     "output_type": "execute_result"
    }
   ],
   "source": [
    "final_data['c1218_map'].value_counts()"
   ]
  },
  {
   "cell_type": "code",
   "execution_count": 251,
   "metadata": {},
   "outputs": [
    {
     "data": {
      "text/plain": [
       "0.0    2090\n",
       "1.0      72\n",
       "Name: c1219_map, dtype: int64"
      ]
     },
     "execution_count": 251,
     "metadata": {},
     "output_type": "execute_result"
    }
   ],
   "source": [
    "final_data['c1219_map'].value_counts()"
   ]
  },
  {
   "cell_type": "code",
   "execution_count": 252,
   "metadata": {},
   "outputs": [
    {
     "data": {
      "text/plain": [
       "0.0    2134\n",
       "1.0      28\n",
       "Name: c1220_map, dtype: int64"
      ]
     },
     "execution_count": 252,
     "metadata": {},
     "output_type": "execute_result"
    }
   ],
   "source": [
    "final_data['c1220_map'].value_counts()"
   ]
  },
  {
   "cell_type": "code",
   "execution_count": 253,
   "metadata": {},
   "outputs": [
    {
     "data": {
      "text/plain": [
       "0.0    1984\n",
       "1.0     176\n",
       "2.0       2\n",
       "Name: sav_tot, dtype: int64"
      ]
     },
     "execution_count": 253,
     "metadata": {},
     "output_type": "execute_result"
    }
   ],
   "source": [
    "final_data['sav_tot'].value_counts()"
   ]
  },
  {
   "cell_type": "code",
   "execution_count": 254,
   "metadata": {},
   "outputs": [
    {
     "data": {
      "text/plain": [
       "0         1673\n",
       "35000       22\n",
       "50000       18\n",
       "100000      18\n",
       "5000        17\n",
       "60000       16\n",
       "20000       15\n",
       "30000       13\n",
       "10000       13\n",
       "15000       12\n",
       "150000      10\n",
       "12000       10\n",
       "75000        9\n",
       "40000        9\n",
       "200000       9\n",
       "Name: c1417, dtype: int64"
      ]
     },
     "execution_count": 254,
     "metadata": {},
     "output_type": "execute_result"
    }
   ],
   "source": [
    "#Real Estate Holdings - not primary residence\n",
    "final_data['c1417'].value_counts().head(15)"
   ]
  },
  {
   "cell_type": "code",
   "execution_count": 255,
   "metadata": {},
   "outputs": [
    {
     "data": {
      "text/plain": [
       " 0         1869\n",
       " 1000        22\n",
       " 50000       10\n",
       " 10000        8\n",
       " 200000       8\n",
       " 100000       5\n",
       " 2000         5\n",
       " 150000       5\n",
       " 5000         5\n",
       " 250000       4\n",
       "-6            4\n",
       " 40000        3\n",
       " 60000        3\n",
       " 35000        3\n",
       " 20000        3\n",
       "Name: c1419, dtype: int64"
      ]
     },
     "execution_count": 255,
     "metadata": {},
     "output_type": "execute_result"
    }
   ],
   "source": [
    "#Privately held business assets\n",
    "final_data['c1419'].value_counts().head(15)"
   ]
  },
  {
   "cell_type": "code",
   "execution_count": 257,
   "metadata": {},
   "outputs": [
    {
     "data": {
      "text/html": [
       "<div>\n",
       "<style scoped>\n",
       "    .dataframe tbody tr th:only-of-type {\n",
       "        vertical-align: middle;\n",
       "    }\n",
       "\n",
       "    .dataframe tbody tr th {\n",
       "        vertical-align: top;\n",
       "    }\n",
       "\n",
       "    .dataframe thead th {\n",
       "        text-align: right;\n",
       "    }\n",
       "</style>\n",
       "<table border=\"1\" class=\"dataframe\">\n",
       "  <thead>\n",
       "    <tr style=\"text-align: right;\">\n",
       "      <th></th>\n",
       "      <th>v1</th>\n",
       "      <th>c1211</th>\n",
       "      <th>fips</th>\n",
       "      <th>c1218</th>\n",
       "      <th>c1219</th>\n",
       "      <th>c1220</th>\n",
       "      <th>c1417</th>\n",
       "      <th>c1419</th>\n",
       "      <th>STAB</th>\n",
       "      <th>CNAME SR</th>\n",
       "      <th>RLDF3929</th>\n",
       "      <th>RLDF3329</th>\n",
       "      <th>RLDF3529</th>\n",
       "      <th>c1218_map</th>\n",
       "      <th>c1219_map</th>\n",
       "      <th>c1220_map</th>\n",
       "      <th>sav_tot</th>\n",
       "    </tr>\n",
       "  </thead>\n",
       "  <tbody>\n",
       "    <tr>\n",
       "      <th>0</th>\n",
       "      <td>1</td>\n",
       "      <td>6760</td>\n",
       "      <td>51760</td>\n",
       "      <td>-6</td>\n",
       "      <td>0</td>\n",
       "      <td>0</td>\n",
       "      <td>0</td>\n",
       "      <td>0</td>\n",
       "      <td>VIRGINIA</td>\n",
       "      <td>RICHMOND</td>\n",
       "      <td>0.460085</td>\n",
       "      <td>-0.02696</td>\n",
       "      <td>0.092548</td>\n",
       "      <td>0.0</td>\n",
       "      <td>0.0</td>\n",
       "      <td>0.0</td>\n",
       "      <td>0.0</td>\n",
       "    </tr>\n",
       "    <tr>\n",
       "      <th>1</th>\n",
       "      <td>5</td>\n",
       "      <td>6760</td>\n",
       "      <td>51760</td>\n",
       "      <td>-6</td>\n",
       "      <td>0</td>\n",
       "      <td>0</td>\n",
       "      <td>0</td>\n",
       "      <td>0</td>\n",
       "      <td>VIRGINIA</td>\n",
       "      <td>RICHMOND</td>\n",
       "      <td>0.460085</td>\n",
       "      <td>-0.02696</td>\n",
       "      <td>0.092548</td>\n",
       "      <td>0.0</td>\n",
       "      <td>0.0</td>\n",
       "      <td>0.0</td>\n",
       "      <td>0.0</td>\n",
       "    </tr>\n",
       "    <tr>\n",
       "      <th>2</th>\n",
       "      <td>121</td>\n",
       "      <td>6760</td>\n",
       "      <td>51760</td>\n",
       "      <td>22</td>\n",
       "      <td>0</td>\n",
       "      <td>0</td>\n",
       "      <td>78000</td>\n",
       "      <td>0</td>\n",
       "      <td>VIRGINIA</td>\n",
       "      <td>RICHMOND</td>\n",
       "      <td>0.460085</td>\n",
       "      <td>-0.02696</td>\n",
       "      <td>0.092548</td>\n",
       "      <td>0.0</td>\n",
       "      <td>0.0</td>\n",
       "      <td>0.0</td>\n",
       "      <td>0.0</td>\n",
       "    </tr>\n",
       "    <tr>\n",
       "      <th>3</th>\n",
       "      <td>506</td>\n",
       "      <td>6760</td>\n",
       "      <td>51760</td>\n",
       "      <td>24</td>\n",
       "      <td>0</td>\n",
       "      <td>0</td>\n",
       "      <td>0</td>\n",
       "      <td>0</td>\n",
       "      <td>VIRGINIA</td>\n",
       "      <td>RICHMOND</td>\n",
       "      <td>0.460085</td>\n",
       "      <td>-0.02696</td>\n",
       "      <td>0.092548</td>\n",
       "      <td>0.0</td>\n",
       "      <td>0.0</td>\n",
       "      <td>0.0</td>\n",
       "      <td>0.0</td>\n",
       "    </tr>\n",
       "    <tr>\n",
       "      <th>4</th>\n",
       "      <td>955</td>\n",
       "      <td>6760</td>\n",
       "      <td>51760</td>\n",
       "      <td>25</td>\n",
       "      <td>0</td>\n",
       "      <td>0</td>\n",
       "      <td>0</td>\n",
       "      <td>0</td>\n",
       "      <td>VIRGINIA</td>\n",
       "      <td>RICHMOND</td>\n",
       "      <td>0.460085</td>\n",
       "      <td>-0.02696</td>\n",
       "      <td>0.092548</td>\n",
       "      <td>0.0</td>\n",
       "      <td>0.0</td>\n",
       "      <td>0.0</td>\n",
       "      <td>0.0</td>\n",
       "    </tr>\n",
       "  </tbody>\n",
       "</table>\n",
       "</div>"
      ],
      "text/plain": [
       "    v1  c1211   fips  c1218  c1219  c1220  c1417  c1419      STAB  CNAME SR  \\\n",
       "0    1   6760  51760     -6      0      0      0      0  VIRGINIA  RICHMOND   \n",
       "1    5   6760  51760     -6      0      0      0      0  VIRGINIA  RICHMOND   \n",
       "2  121   6760  51760     22      0      0  78000      0  VIRGINIA  RICHMOND   \n",
       "3  506   6760  51760     24      0      0      0      0  VIRGINIA  RICHMOND   \n",
       "4  955   6760  51760     25      0      0      0      0  VIRGINIA  RICHMOND   \n",
       "\n",
       "   RLDF3929  RLDF3329  RLDF3529  c1218_map  c1219_map  c1220_map  sav_tot  \n",
       "0  0.460085  -0.02696  0.092548        0.0        0.0        0.0      0.0  \n",
       "1  0.460085  -0.02696  0.092548        0.0        0.0        0.0      0.0  \n",
       "2  0.460085  -0.02696  0.092548        0.0        0.0        0.0      0.0  \n",
       "3  0.460085  -0.02696  0.092548        0.0        0.0        0.0      0.0  \n",
       "4  0.460085  -0.02696  0.092548        0.0        0.0        0.0      0.0  "
      ]
     },
     "execution_count": 257,
     "metadata": {},
     "output_type": "execute_result"
    }
   ],
   "source": [
    "final_data.head()"
   ]
  },
  {
   "cell_type": "code",
   "execution_count": 258,
   "metadata": {},
   "outputs": [],
   "source": [
    "final_dataset = final_data[['c1218_map', 'c1219_map', 'c1220_map', 'sav_tot', 'c1417', 'c1419', 'RLDF3929', 'RLDF3529', 'RLDF3329']]"
   ]
  },
  {
   "cell_type": "code",
   "execution_count": 259,
   "metadata": {},
   "outputs": [],
   "source": [
    "final_dataset.to_csv('final_regression_data.csv')"
   ]
  },
  {
   "cell_type": "code",
   "execution_count": null,
   "metadata": {},
   "outputs": [],
   "source": []
  }
 ],
 "metadata": {
  "kernelspec": {
   "display_name": "Python 3",
   "language": "python",
   "name": "python3"
  },
  "language_info": {
   "codemirror_mode": {
    "name": "ipython",
    "version": 3
   },
   "file_extension": ".py",
   "mimetype": "text/x-python",
   "name": "python",
   "nbconvert_exporter": "python",
   "pygments_lexer": "ipython3",
   "version": "3.6.4"
  }
 },
 "nbformat": 4,
 "nbformat_minor": 2
}
